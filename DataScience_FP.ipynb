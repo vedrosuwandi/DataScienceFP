{
  "nbformat": 4,
  "nbformat_minor": 0,
  "metadata": {
    "colab": {
      "name": "DataScience FP.ipynb",
      "provenance": [],
      "collapsed_sections": [],
      "toc_visible": true,
      "include_colab_link": true
    },
    "kernelspec": {
      "display_name": "Python 3",
      "name": "python3"
    }
  },
  "cells": [
    {
      "cell_type": "markdown",
      "metadata": {
        "id": "view-in-github",
        "colab_type": "text"
      },
      "source": [
        "<a href=\"https://colab.research.google.com/github/vedrosuwandi/DataScienceFP/blob/main/DataScience_FP.ipynb\" target=\"_parent\"><img src=\"https://colab.research.google.com/assets/colab-badge.svg\" alt=\"Open In Colab\"/></a>"
      ]
    },
    {
      "cell_type": "code",
      "metadata": {
        "colab": {
          "base_uri": "https://localhost:8080/"
        },
        "id": "jueKQRscPBX0",
        "outputId": "2c6bf88e-e0f3-4e7a-c13b-5ce3662d4542"
      },
      "source": [
        "import pandas as pd\n",
        "import numpy as np\n",
        "from numpy import random\n",
        "import matplotlib.pyplot as plt\n",
        "from sklearn.tree import DecisionTreeRegressor, DecisionTreeClassifier\n",
        "from sklearn.linear_model import LinearRegression\n",
        "\n",
        "from sklearn.preprocessing import PolynomialFeatures\n",
        "from sklearn.metrics import r2_score,mean_squared_error\n",
        "from sklearn.preprocessing import StandardScaler\n",
        "from google.colab import drive\n",
        "from sklearn import preprocessing\n",
        "from sklearn import metrics\n",
        "from sklearn.model_selection import train_test_split\n",
        "drive.mount('/content/drive')\n"
      ],
      "execution_count": null,
      "outputs": [
        {
          "output_type": "stream",
          "text": [
            "Mounted at /content/drive\n"
          ],
          "name": "stdout"
        }
      ]
    },
    {
      "cell_type": "markdown",
      "metadata": {
        "id": "vusrsrY1JKhy"
      },
      "source": [
        "Plot Data"
      ]
    },
    {
      "cell_type": "code",
      "metadata": {
        "id": "qC6OZzewP58H"
      },
      "source": [
        "multi = pd.read_csv(\"/content/drive/My Drive/DataScience FP/multi gacha.csv\")"
      ],
      "execution_count": null,
      "outputs": []
    },
    {
      "cell_type": "code",
      "metadata": {
        "colab": {
          "base_uri": "https://localhost:8080/",
          "height": 295
        },
        "id": "iVz60QjUJcU4",
        "outputId": "c4fe9869-19d3-4b03-d966-59df8a14f361"
      },
      "source": [
        "def boxplot(data, Y, ylabel, title):\r\n",
        "    x = data[\"number of trial\"]\r\n",
        "    y = data[Y]\r\n",
        "    plt.boxplot(y)\r\n",
        "    plt.xlabel('No. of Trials')\r\n",
        "    plt.ylabel(ylabel)\r\n",
        "    plt.yticks(np.linspace(0, 11, 12))\r\n",
        "    plt.title(title )\r\n",
        "    plt.show()\r\n",
        "boxplot(multi, 'rarity *3','Rarity *3 Occurence', \"Result of getting *3\")"
      ],
      "execution_count": null,
      "outputs": [
        {
          "output_type": "display_data",
          "data": {
            "image/png": "[encoded data removed]",
            "text/plain": [
              "<Figure size 432x288 with 1 Axes>"
            ]
          },
          "metadata": {
            "tags": [],
            "needs_background": "light"
          }
        }
      ]
    },
    {
      "cell_type": "code",
      "metadata": {
        "colab": {
          "base_uri": "https://localhost:8080/",
          "height": 295
        },
        "id": "7cauudc5Je2S",
        "outputId": "bd208a9e-3387-4883-cbe4-cf05986866b4"
      },
      "source": [
        "boxplot(multi,'rarity *4','Rarity *4 Occurence' ,  \"Result of getting *4\")"
      ],
      "execution_count": null,
      "outputs": [
        {
          "output_type": "display_data",
          "data": {
            "image/png": "[encoded data removed]",
            "text/plain": [
              "<Figure size 432x288 with 1 Axes>"
            ]
          },
          "metadata": {
            "tags": [],
            "needs_background": "light"
          }
        }
      ]
    },
    {
      "cell_type": "code",
      "metadata": {
        "colab": {
          "base_uri": "https://localhost:8080/",
          "height": 295
        },
        "id": "0wVGoTZzJJ8j",
        "outputId": "9bc569c8-a784-4a23-a599-3f86bdc0f02e"
      },
      "source": [
        "boxplot(multi,'rarity *5','Rarity *5 Occurence', \"Result of getting *5\")"
      ],
      "execution_count": null,
      "outputs": [
        {
          "output_type": "display_data",
          "data": {
            "image/png": "[encoded data removed]",
            "text/plain": [
              "<Figure size 432x288 with 1 Axes>"
            ]
          },
          "metadata": {
            "tags": [],
            "needs_background": "light"
          }
        }
      ]
    },
    {
      "cell_type": "code",
      "metadata": {
        "colab": {
          "base_uri": "https://localhost:8080/"
        },
        "id": "wvn5P5woSzwq",
        "outputId": "1c14c635-4ada-4f73-87be-71d0715ea6ff"
      },
      "source": [
        "n = 11\r\n",
        "budgets = 200\r\n",
        "#takes the data randomly\r\n",
        "samples = []\r\n",
        "budget = 0\r\n",
        "for i in range (budgets):\r\n",
        "    budget += 1\r\n",
        "    samples_col = []\r\n",
        "    sampling = pd.DataFrame(multi).sample(n).sort_values(by=\"number of trial\")\r\n",
        "    for j in range(sampling['rarity *5'].count()):\r\n",
        "        samples_col.append(sampling['rarity *5'].iloc[j])\r\n",
        "    samples.append(samples_col)\r\n",
        "    #print(sampling['rarity *5'] , '\\n')    \r\n",
        "print(np.matrix(samples))\r\n",
        "#print(samples)"
      ],
      "execution_count": null,
      "outputs": [
        {
          "output_type": "stream",
          "text": [
            "[[0 0 0 ... 0 0 0]\n",
            " [0 0 0 ... 0 1 1]\n",
            " [0 0 1 ... 0 0 1]\n",
            " ...\n",
            " [0 0 0 ... 3 0 0]\n",
            " [1 0 0 ... 2 0 0]\n",
            " [0 0 0 ... 0 0 2]]\n"
          ],
          "name": "stdout"
        }
      ]
    },
    {
      "cell_type": "code",
      "metadata": {
        "colab": {
          "base_uri": "https://localhost:8080/"
        },
        "id": "YBfoA8nNys9g",
        "outputId": "b17828b4-0339-42e2-99d8-484f58869e06"
      },
      "source": [
        "samples[0]"
      ],
      "execution_count": null,
      "outputs": [
        {
          "output_type": "execute_result",
          "data": {
            "text/plain": [
              "[0, 0, 0, 0, 0, 0, 0, 1, 0, 0, 0]"
            ]
          },
          "metadata": {
            "tags": []
          },
          "execution_count": 93
        }
      ]
    },
    {
      "cell_type": "code",
      "metadata": {
        "id": "l09GDw8sAz-3",
        "colab": {
          "base_uri": "https://localhost:8080/"
        },
        "outputId": "4abdc3d2-138c-42ec-8994-0f6cff461406"
      },
      "source": [
        "totals = [[]]\r\n",
        "for i in range(1, len(samples)):\r\n",
        "    totals.append([])\r\n",
        "    for j in range(0, len(samples[i])):\r\n",
        "        newValue = 0\r\n",
        "        for k in range(j, j+(i+1)):\r\n",
        "            x = np.random.randint(10)\r\n",
        "            #print(samples[i][x])\r\n",
        "            #print(\" \")  \r\n",
        "            newValue += samples[i][x]\r\n",
        "        #print(\"result = \", newValue)\r\n",
        "               \r\n",
        "        totals[i].append(newValue)\r\n",
        "        #print(\"-----\")\r\n",
        "    #print(\"end of budget \", i + 1)\r\n",
        "    \r\n",
        "for i in range(0, len(samples[i])):\r\n",
        "    x = x = np.random.randint(10)\r\n",
        "    totals[0].append(samples[0][x]) \r\n",
        "print(totals)"
      ],
      "execution_count": null,
      "outputs": [
        {
          "output_type": "stream",
          "text": [
            "[[0, 0, 0, 0, 0, 0, 0, 1, 0, 0, 0], [0, 1, 0, 0, 0, 1, 1, 0, 0, 0, 1], [0, 1, 0, 3, 2, 0, 0, 1, 0, 0, 1], [0, 1, 1, 0, 3, 0, 0, 2, 1, 1, 1], [6, 0, 5, 3, 4, 2, 2, 2, 1, 4, 1], [0, 0, 2, 0, 0, 3, 0, 0, 1, 0, 2], [2, 2, 0, 3, 2, 2, 1, 1, 4, 3, 3], [3, 4, 0, 3, 3, 2, 2, 0, 4, 6, 4], [1, 2, 1, 1, 1, 1, 1, 0, 1, 3, 2], [0, 0, 0, 0, 0, 0, 0, 0, 0, 0, 0], [5, 3, 6, 6, 6, 4, 4, 4, 6, 3, 8], [4, 4, 4, 5, 2, 4, 4, 5, 5, 2, 5], [4, 3, 2, 1, 3, 3, 1, 3, 2, 2, 3], [3, 4, 1, 1, 1, 2, 1, 2, 0, 1, 4], [4, 1, 0, 0, 1, 5, 3, 2, 0, 0, 0], [8, 6, 5, 6, 4, 10, 8, 6, 7, 4, 5], [7, 5, 7, 5, 7, 6, 9, 8, 7, 5, 8], [8, 6, 6, 4, 4, 4, 4, 6, 8, 6, 8], [7, 2, 4, 7, 8, 5, 4, 4, 1, 8, 6], [6, 2, 3, 4, 4, 6, 4, 7, 5, 5, 4], [7, 6, 8, 7, 6, 5, 6, 7, 6, 6, 4], [17, 6, 14, 15, 13, 14, 17, 9, 18, 18, 8], [4, 9, 7, 10, 9, 13, 7, 9, 7, 5, 6], [15, 10, 9, 8, 6, 7, 10, 9, 14, 5, 2], [4, 5, 6, 4, 4, 4, 8, 4, 5, 6, 7], [12, 8, 8, 7, 6, 9, 6, 10, 8, 11, 8], [8, 4, 6, 9, 9, 5, 4, 9, 8, 4, 5], [9, 10, 15, 11, 12, 12, 8, 10, 13, 10, 10], [9, 13, 6, 4, 14, 13, 4, 10, 11, 5, 5], [14, 12, 12, 11, 16, 12, 14, 16, 8, 17, 8], [3, 5, 7, 8, 7, 13, 5, 8, 7, 9, 9], [10, 13, 8, 13, 9, 12, 7, 14, 11, 9, 9], [10, 18, 19, 13, 21, 15, 19, 19, 18, 16, 12], [24, 23, 24, 17, 16, 25, 25, 20, 21, 22, 25], [15, 13, 13, 11, 14, 7, 7, 7, 11, 15, 7], [18, 13, 13, 10, 6, 13, 16, 13, 24, 15, 20], [16, 18, 19, 11, 11, 16, 11, 7, 15, 14, 15], [4, 5, 0, 3, 3, 4, 5, 3, 4, 4, 2], [13, 14, 14, 13, 18, 16, 16, 15, 14, 9, 14], [14, 14, 15, 18, 13, 14, 17, 22, 23, 13, 18], [10, 11, 7, 8, 11, 8, 7, 7, 7, 7, 8], [3, 4, 4, 1, 4, 3, 5, 2, 3, 0, 10], [10, 13, 13, 11, 21, 7, 13, 10, 12, 13, 8], [15, 15, 9, 11, 14, 10, 17, 13, 14, 14, 16], [11, 6, 10, 11, 10, 8, 10, 8, 9, 15, 10], [14, 8, 11, 12, 3, 6, 4, 16, 13, 12, 6], [14, 17, 13, 12, 13, 16, 9, 17, 14, 13, 15], [12, 11, 13, 19, 13, 16, 16, 14, 13, 17, 6], [5, 5, 5, 6, 6, 8, 3, 3, 4, 5, 2], [29, 40, 41, 33, 44, 31, 38, 31, 41, 34, 38], [26, 19, 23, 19, 20, 21, 22, 16, 20, 22, 17], [12, 8, 12, 5, 12, 9, 11, 8, 13, 15, 7], [13, 16, 24, 20, 18, 16, 13, 14, 22, 18, 16], [16, 17, 11, 19, 14, 19, 12, 17, 11, 13, 21], [7, 14, 5, 16, 14, 7, 13, 16, 9, 9, 11], [29, 23, 25, 23, 28, 20, 28, 22, 25, 33, 31], [0, 0, 0, 0, 0, 0, 0, 0, 0, 0, 0], [19, 21, 22, 25, 29, 16, 21, 21, 25, 19, 14], [10, 15, 11, 11, 11, 14, 8, 12, 9, 13, 13], [11, 20, 11, 12, 8, 9, 11, 5, 17, 9, 15], [14, 18, 19, 19, 20, 25, 19, 11, 27, 21, 14], [25, 20, 28, 23, 27, 17, 27, 28, 24, 12, 19], [16, 15, 22, 11, 15, 23, 15, 23, 15, 26, 18], [18, 20, 18, 25, 29, 17, 15, 21, 22, 20, 21], [32, 37, 18, 37, 29, 36, 31, 31, 27, 33, 35], [31, 28, 27, 26, 27, 25, 27, 21, 32, 33, 24], [13, 12, 13, 13, 15, 15, 6, 14, 8, 12, 15], [38, 41, 35, 38, 27, 37, 36, 28, 47, 31, 29], [33, 23, 22, 35, 43, 43, 26, 34, 33, 35, 40], [9, 9, 6, 5, 14, 10, 6, 7, 10, 5, 7], [42, 45, 39, 46, 48, 40, 45, 45, 48, 45, 53], [33, 32, 36, 24, 26, 20, 27, 22, 36, 22, 32], [14, 14, 12, 10, 20, 16, 26, 12, 16, 16, 14], [5, 7, 16, 8, 7, 8, 13, 7, 4, 2, 7], [23, 27, 16, 24, 23, 26, 30, 20, 25, 30, 18], [15, 24, 16, 20, 19, 13, 14, 17, 26, 11, 15], [21, 23, 20, 23, 17, 23, 22, 20, 30, 30, 17], [57, 57, 58, 58, 61, 67, 59, 60, 57, 66, 62], [6, 9, 11, 11, 9, 7, 13, 12, 9, 7, 6], [0, 0, 0, 0, 0, 0, 0, 0, 0, 0, 0], [9, 2, 10, 5, 5, 9, 7, 7, 8, 7, 7], [12, 18, 18, 16, 16, 19, 15, 19, 10, 16, 21], [22, 14, 16, 20, 18, 15, 17, 14, 15, 15, 11], [7, 7, 4, 9, 6, 11, 17, 8, 11, 7, 8], [15, 15, 18, 21, 19, 19, 15, 23, 17, 14, 17], [53, 64, 61, 51, 48, 53, 60, 62, 54, 57, 45], [23, 37, 24, 29, 30, 31, 31, 36, 33, 40, 36], [19, 22, 24, 20, 21, 16, 15, 17, 18, 14, 11], [6, 7, 3, 9, 8, 9, 11, 6, 6, 12, 8], [20, 10, 10, 19, 12, 24, 26, 16, 13, 21, 15], [42, 41, 39, 54, 42, 31, 38, 29, 39, 41, 51], [56, 54, 53, 51, 55, 45, 57, 64, 46, 49, 46], [35, 34, 40, 35, 49, 40, 37, 31, 31, 36, 31], [0, 0, 0, 0, 0, 0, 0, 0, 0, 0, 0], [18, 18, 21, 18, 20, 18, 14, 17, 19, 22, 20], [35, 37, 40, 26, 44, 40, 41, 31, 37, 44, 44], [31, 37, 28, 27, 28, 41, 37, 35, 27, 30, 32], [17, 19, 20, 21, 13, 18, 18, 14, 17, 15, 24], [29, 34, 38, 37, 31, 39, 35, 34, 41, 38, 39], [25, 34, 37, 30, 28, 27, 39, 36, 36, 27, 30], [22, 20, 26, 10, 18, 24, 18, 14, 20, 18, 28], [19, 10, 20, 20, 14, 8, 17, 20, 23, 17, 26], [35, 43, 40, 42, 51, 39, 49, 37, 33, 50, 38], [22, 20, 21, 15, 25, 17, 21, 22, 24, 17, 29], [17, 20, 23, 23, 26, 28, 21, 23, 20, 21, 18], [29, 24, 31, 29, 26, 31, 22, 35, 35, 47, 36], [34, 31, 32, 26, 31, 38, 25, 32, 35, 39, 33], [31, 22, 12, 26, 22, 18, 23, 22, 23, 22, 11], [18, 42, 36, 49, 31, 26, 27, 32, 37, 35, 41], [50, 36, 40, 44, 51, 37, 42, 39, 47, 40, 39], [32, 39, 46, 21, 31, 36, 43, 30, 36, 41, 31], [38, 34, 41, 28, 29, 32, 31, 36, 31, 41, 36], [39, 29, 42, 36, 42, 30, 33, 33, 36, 35, 34], [34, 31, 25, 34, 40, 30, 41, 31, 30, 34, 29], [48, 45, 46, 50, 37, 38, 38, 46, 50, 38, 52], [38, 32, 44, 31, 44, 46, 25, 30, 32, 39, 34], [45, 39, 31, 30, 36, 37, 46, 36, 32, 26, 33], [42, 46, 56, 44, 44, 68, 58, 40, 42, 42, 40], [47, 41, 50, 47, 44, 47, 57, 48, 56, 60, 52], [17, 9, 8, 8, 9, 14, 19, 9, 7, 12, 13], [13, 9, 9, 7, 12, 11, 14, 16, 9, 12, 17], [18, 9, 15, 8, 14, 17, 12, 14, 14, 11, 16], [46, 45, 35, 49, 51, 54, 56, 45, 48, 54, 49], [27, 21, 25, 29, 31, 27, 17, 22, 21, 21, 23], [28, 25, 21, 25, 21, 22, 26, 20, 33, 26, 29], [31, 19, 32, 25, 26, 20, 26, 20, 23, 30, 33], [58, 59, 46, 46, 50, 56, 53, 52, 50, 51, 44], [0, 0, 0, 0, 0, 0, 0, 0, 0, 0, 0], [77, 62, 60, 63, 64, 67, 70, 64, 62, 68, 58], [37, 45, 44, 34, 52, 26, 38, 38, 49, 46, 44], [30, 35, 44, 43, 33, 40, 39, 38, 40, 52, 46], [58, 59, 71, 58, 66, 65, 68, 70, 68, 65, 78], [25, 33, 30, 23, 26, 29, 33, 27, 30, 26, 24], [66, 60, 81, 53, 62, 64, 71, 70, 64, 61, 66], [36, 44, 37, 32, 33, 41, 55, 34, 50, 42, 47], [26, 26, 25, 24, 20, 25, 24, 31, 21, 25, 29], [77, 66, 60, 68, 65, 73, 65, 68, 73, 66, 69], [89, 110, 109, 102, 102, 107, 91, 99, 98, 86, 97], [58, 52, 63, 57, 56, 48, 72, 38, 57, 48, 47], [36, 35, 39, 39, 43, 43, 40, 44, 43, 40, 40], [36, 52, 48, 47, 33, 57, 45, 37, 37, 50, 46], [64, 46, 51, 47, 57, 60, 49, 57, 47, 58, 54], [65, 72, 80, 74, 75, 80, 60, 68, 65, 56, 71], [107, 92, 107, 92, 95, 88, 100, 98, 102, 107, 92], [43, 49, 33, 41, 38, 41, 52, 48, 50, 57, 42], [16, 18, 13, 16, 14, 15, 12, 17, 17, 14, 14], [24, 31, 27, 37, 19, 24, 31, 27, 26, 36, 27], [40, 24, 30, 28, 22, 30, 18, 34, 24, 18, 28], [22, 18, 20, 38, 25, 26, 28, 23, 26, 19, 30], [39, 38, 47, 41, 45, 48, 49, 35, 48, 39, 49], [52, 57, 68, 52, 48, 71, 56, 59, 58, 54, 71], [82, 73, 74, 73, 76, 74, 76, 87, 90, 79, 82], [33, 34, 24, 29, 28, 26, 23, 24, 28, 27, 27], [117, 101, 98, 88, 118, 100, 119, 117, 117, 103, 94], [132, 112, 129, 122, 122, 109, 135, 130, 117, 119, 121], [49, 50, 51, 52, 52, 52, 41, 48, 42, 55, 48], [47, 42, 37, 51, 43, 58, 49, 41, 43, 42, 46], [64, 65, 57, 63, 69, 68, 64, 65, 64, 66, 67], [33, 21, 38, 30, 45, 27, 35, 39, 35, 34, 26], [72, 58, 65, 61, 76, 73, 63, 55, 69, 68, 58], [49, 53, 36, 36, 48, 44, 42, 45, 49, 43, 47], [28, 32, 29, 35, 29, 40, 25, 28, 33, 39, 33], [67, 58, 82, 56, 72, 66, 79, 56, 59, 63, 91], [134, 138, 135, 105, 128, 127, 137, 134, 125, 120, 134], [14, 23, 13, 15, 23, 17, 15, 14, 16, 18, 17], [61, 68, 66, 60, 61, 58, 61, 64, 68, 62, 62], [141, 137, 121, 152, 134, 130, 124, 133, 119, 122, 147], [0, 0, 0, 0, 0, 0, 0, 0, 0, 0, 0], [82, 70, 62, 78, 64, 67, 54, 59, 52, 63, 84], [14, 15, 9, 15, 16, 21, 16, 20, 17, 18, 16], [43, 50, 41, 62, 50, 52, 52, 46, 46, 50, 55], [39, 31, 38, 31, 35, 37, 33, 47, 36, 36, 39], [16, 13, 16, 21, 21, 21, 14, 16, 18, 10, 16], [12, 13, 13, 15, 16, 21, 20, 20, 14, 19, 12], [67, 78, 74, 66, 72, 66, 65, 68, 74, 83, 69], [40, 36, 37, 32, 36, 32, 34, 38, 33, 30, 38], [101, 118, 95, 115, 117, 88, 121, 118, 108, 110, 92], [19, 17, 11, 27, 16, 20, 15, 19, 12, 14, 22], [33, 46, 38, 52, 55, 47, 71, 63, 63, 44, 49], [38, 42, 39, 42, 34, 37, 42, 33, 36, 29, 34], [53, 61, 56, 60, 49, 59, 64, 46, 59, 53, 68], [52, 57, 64, 49, 61, 62, 51, 62, 52, 60, 48], [70, 47, 50, 47, 66, 51, 49, 45, 67, 48, 49], [75, 86, 61, 84, 74, 74, 69, 61, 74, 81, 80], [81, 78, 80, 55, 71, 74, 61, 75, 72, 72, 84], [58, 48, 67, 50, 53, 53, 51, 54, 50, 58, 59], [107, 112, 117, 113, 108, 123, 110, 125, 117, 118, 116], [26, 34, 32, 44, 38, 36, 42, 40, 42, 32, 42], [142, 152, 133, 132, 128, 124, 144, 130, 129, 143, 139], [59, 55, 59, 53, 65, 60, 46, 54, 65, 66, 62], [8, 12, 16, 13, 21, 14, 24, 24, 19, 20, 26], [72, 85, 93, 64, 81, 77, 92, 78, 61, 74, 83], [72, 65, 63, 54, 56, 75, 53, 69, 71, 54, 50], [54, 56, 62, 62, 62, 42, 60, 55, 63, 54, 64], [52, 69, 63, 65, 55, 38, 52, 46, 61, 67, 58], [20, 20, 22, 25, 21, 20, 17, 18, 15, 17, 14], [90, 73, 93, 69, 75, 87, 70, 72, 67, 82, 63], [68, 45, 90, 66, 84, 87, 81, 79, 67, 57, 81], [127, 119, 120, 110, 122, 112, 120, 114, 121, 112, 136], [18, 18, 19, 21, 15, 18, 14, 13, 22, 29, 17]]\n"
          ],
          "name": "stdout"
        }
      ]
    },
    {
      "cell_type": "markdown",
      "metadata": {
        "id": "nGEmu2_TUXsp"
      },
      "source": [
        "# decision tree regressor\r\n",
        "\r\n",
        "> Indented block\r\n",
        "\r\n",
        "\r\n",
        "\r\n",
        "#### link: https://scikit-learn.org/stable/auto_examples/tree/plot_tree_regression.html\r\n",
        "\r\n"
      ]
    },
    {
      "cell_type": "code",
      "metadata": {
        "id": "eSSmr_85A8ZC",
        "colab": {
          "base_uri": "https://localhost:8080/"
        },
        "outputId": "750d0a0e-04e9-4f9d-abb4-79803e35c3a8"
      },
      "source": [
        "x = [[budget for sample in range(n)] for budget in range(0, budgets)]\r\n",
        "y = totals\r\n",
        "print(x)\r\n",
        "print(\"    \")\r\n",
        "print(y)"
      ],
      "execution_count": null,
      "outputs": [
        {
          "output_type": "stream",
          "text": [
            "[[0, 0, 0, 0, 0, 0, 0, 0, 0, 0, 0], [1, 1, 1, 1, 1, 1, 1, 1, 1, 1, 1], [2, 2, 2, 2, 2, 2, 2, 2, 2, 2, 2], [3, 3, 3, 3, 3, 3, 3, 3, 3, 3, 3], [4, 4, 4, 4, 4, 4, 4, 4, 4, 4, 4], [5, 5, 5, 5, 5, 5, 5, 5, 5, 5, 5], [6, 6, 6, 6, 6, 6, 6, 6, 6, 6, 6], [7, 7, 7, 7, 7, 7, 7, 7, 7, 7, 7], [8, 8, 8, 8, 8, 8, 8, 8, 8, 8, 8], [9, 9, 9, 9, 9, 9, 9, 9, 9, 9, 9], [10, 10, 10, 10, 10, 10, 10, 10, 10, 10, 10], [11, 11, 11, 11, 11, 11, 11, 11, 11, 11, 11], [12, 12, 12, 12, 12, 12, 12, 12, 12, 12, 12], [13, 13, 13, 13, 13, 13, 13, 13, 13, 13, 13], [14, 14, 14, 14, 14, 14, 14, 14, 14, 14, 14], [15, 15, 15, 15, 15, 15, 15, 15, 15, 15, 15], [16, 16, 16, 16, 16, 16, 16, 16, 16, 16, 16], [17, 17, 17, 17, 17, 17, 17, 17, 17, 17, 17], [18, 18, 18, 18, 18, 18, 18, 18, 18, 18, 18], [19, 19, 19, 19, 19, 19, 19, 19, 19, 19, 19], [20, 20, 20, 20, 20, 20, 20, 20, 20, 20, 20], [21, 21, 21, 21, 21, 21, 21, 21, 21, 21, 21], [22, 22, 22, 22, 22, 22, 22, 22, 22, 22, 22], [23, 23, 23, 23, 23, 23, 23, 23, 23, 23, 23], [24, 24, 24, 24, 24, 24, 24, 24, 24, 24, 24], [25, 25, 25, 25, 25, 25, 25, 25, 25, 25, 25], [26, 26, 26, 26, 26, 26, 26, 26, 26, 26, 26], [27, 27, 27, 27, 27, 27, 27, 27, 27, 27, 27], [28, 28, 28, 28, 28, 28, 28, 28, 28, 28, 28], [29, 29, 29, 29, 29, 29, 29, 29, 29, 29, 29], [30, 30, 30, 30, 30, 30, 30, 30, 30, 30, 30], [31, 31, 31, 31, 31, 31, 31, 31, 31, 31, 31], [32, 32, 32, 32, 32, 32, 32, 32, 32, 32, 32], [33, 33, 33, 33, 33, 33, 33, 33, 33, 33, 33], [34, 34, 34, 34, 34, 34, 34, 34, 34, 34, 34], [35, 35, 35, 35, 35, 35, 35, 35, 35, 35, 35], [36, 36, 36, 36, 36, 36, 36, 36, 36, 36, 36], [37, 37, 37, 37, 37, 37, 37, 37, 37, 37, 37], [38, 38, 38, 38, 38, 38, 38, 38, 38, 38, 38], [39, 39, 39, 39, 39, 39, 39, 39, 39, 39, 39], [40, 40, 40, 40, 40, 40, 40, 40, 40, 40, 40], [41, 41, 41, 41, 41, 41, 41, 41, 41, 41, 41], [42, 42, 42, 42, 42, 42, 42, 42, 42, 42, 42], [43, 43, 43, 43, 43, 43, 43, 43, 43, 43, 43], [44, 44, 44, 44, 44, 44, 44, 44, 44, 44, 44], [45, 45, 45, 45, 45, 45, 45, 45, 45, 45, 45], [46, 46, 46, 46, 46, 46, 46, 46, 46, 46, 46], [47, 47, 47, 47, 47, 47, 47, 47, 47, 47, 47], [48, 48, 48, 48, 48, 48, 48, 48, 48, 48, 48], [49, 49, 49, 49, 49, 49, 49, 49, 49, 49, 49], [50, 50, 50, 50, 50, 50, 50, 50, 50, 50, 50], [51, 51, 51, 51, 51, 51, 51, 51, 51, 51, 51], [52, 52, 52, 52, 52, 52, 52, 52, 52, 52, 52], [53, 53, 53, 53, 53, 53, 53, 53, 53, 53, 53], [54, 54, 54, 54, 54, 54, 54, 54, 54, 54, 54], [55, 55, 55, 55, 55, 55, 55, 55, 55, 55, 55], [56, 56, 56, 56, 56, 56, 56, 56, 56, 56, 56], [57, 57, 57, 57, 57, 57, 57, 57, 57, 57, 57], [58, 58, 58, 58, 58, 58, 58, 58, 58, 58, 58], [59, 59, 59, 59, 59, 59, 59, 59, 59, 59, 59], [60, 60, 60, 60, 60, 60, 60, 60, 60, 60, 60], [61, 61, 61, 61, 61, 61, 61, 61, 61, 61, 61], [62, 62, 62, 62, 62, 62, 62, 62, 62, 62, 62], [63, 63, 63, 63, 63, 63, 63, 63, 63, 63, 63], [64, 64, 64, 64, 64, 64, 64, 64, 64, 64, 64], [65, 65, 65, 65, 65, 65, 65, 65, 65, 65, 65], [66, 66, 66, 66, 66, 66, 66, 66, 66, 66, 66], [67, 67, 67, 67, 67, 67, 67, 67, 67, 67, 67], [68, 68, 68, 68, 68, 68, 68, 68, 68, 68, 68], [69, 69, 69, 69, 69, 69, 69, 69, 69, 69, 69], [70, 70, 70, 70, 70, 70, 70, 70, 70, 70, 70], [71, 71, 71, 71, 71, 71, 71, 71, 71, 71, 71], [72, 72, 72, 72, 72, 72, 72, 72, 72, 72, 72], [73, 73, 73, 73, 73, 73, 73, 73, 73, 73, 73], [74, 74, 74, 74, 74, 74, 74, 74, 74, 74, 74], [75, 75, 75, 75, 75, 75, 75, 75, 75, 75, 75], [76, 76, 76, 76, 76, 76, 76, 76, 76, 76, 76], [77, 77, 77, 77, 77, 77, 77, 77, 77, 77, 77], [78, 78, 78, 78, 78, 78, 78, 78, 78, 78, 78], [79, 79, 79, 79, 79, 79, 79, 79, 79, 79, 79], [80, 80, 80, 80, 80, 80, 80, 80, 80, 80, 80], [81, 81, 81, 81, 81, 81, 81, 81, 81, 81, 81], [82, 82, 82, 82, 82, 82, 82, 82, 82, 82, 82], [83, 83, 83, 83, 83, 83, 83, 83, 83, 83, 83], [84, 84, 84, 84, 84, 84, 84, 84, 84, 84, 84], [85, 85, 85, 85, 85, 85, 85, 85, 85, 85, 85], [86, 86, 86, 86, 86, 86, 86, 86, 86, 86, 86], [87, 87, 87, 87, 87, 87, 87, 87, 87, 87, 87], [88, 88, 88, 88, 88, 88, 88, 88, 88, 88, 88], [89, 89, 89, 89, 89, 89, 89, 89, 89, 89, 89], [90, 90, 90, 90, 90, 90, 90, 90, 90, 90, 90], [91, 91, 91, 91, 91, 91, 91, 91, 91, 91, 91], [92, 92, 92, 92, 92, 92, 92, 92, 92, 92, 92], [93, 93, 93, 93, 93, 93, 93, 93, 93, 93, 93], [94, 94, 94, 94, 94, 94, 94, 94, 94, 94, 94], [95, 95, 95, 95, 95, 95, 95, 95, 95, 95, 95], [96, 96, 96, 96, 96, 96, 96, 96, 96, 96, 96], [97, 97, 97, 97, 97, 97, 97, 97, 97, 97, 97], [98, 98, 98, 98, 98, 98, 98, 98, 98, 98, 98], [99, 99, 99, 99, 99, 99, 99, 99, 99, 99, 99], [100, 100, 100, 100, 100, 100, 100, 100, 100, 100, 100], [101, 101, 101, 101, 101, 101, 101, 101, 101, 101, 101], [102, 102, 102, 102, 102, 102, 102, 102, 102, 102, 102], [103, 103, 103, 103, 103, 103, 103, 103, 103, 103, 103], [104, 104, 104, 104, 104, 104, 104, 104, 104, 104, 104], [105, 105, 105, 105, 105, 105, 105, 105, 105, 105, 105], [106, 106, 106, 106, 106, 106, 106, 106, 106, 106, 106], [107, 107, 107, 107, 107, 107, 107, 107, 107, 107, 107], [108, 108, 108, 108, 108, 108, 108, 108, 108, 108, 108], [109, 109, 109, 109, 109, 109, 109, 109, 109, 109, 109], [110, 110, 110, 110, 110, 110, 110, 110, 110, 110, 110], [111, 111, 111, 111, 111, 111, 111, 111, 111, 111, 111], [112, 112, 112, 112, 112, 112, 112, 112, 112, 112, 112], [113, 113, 113, 113, 113, 113, 113, 113, 113, 113, 113], [114, 114, 114, 114, 114, 114, 114, 114, 114, 114, 114], [115, 115, 115, 115, 115, 115, 115, 115, 115, 115, 115], [116, 116, 116, 116, 116, 116, 116, 116, 116, 116, 116], [117, 117, 117, 117, 117, 117, 117, 117, 117, 117, 117], [118, 118, 118, 118, 118, 118, 118, 118, 118, 118, 118], [119, 119, 119, 119, 119, 119, 119, 119, 119, 119, 119], [120, 120, 120, 120, 120, 120, 120, 120, 120, 120, 120], [121, 121, 121, 121, 121, 121, 121, 121, 121, 121, 121], [122, 122, 122, 122, 122, 122, 122, 122, 122, 122, 122], [123, 123, 123, 123, 123, 123, 123, 123, 123, 123, 123], [124, 124, 124, 124, 124, 124, 124, 124, 124, 124, 124], [125, 125, 125, 125, 125, 125, 125, 125, 125, 125, 125], [126, 126, 126, 126, 126, 126, 126, 126, 126, 126, 126], [127, 127, 127, 127, 127, 127, 127, 127, 127, 127, 127], [128, 128, 128, 128, 128, 128, 128, 128, 128, 128, 128], [129, 129, 129, 129, 129, 129, 129, 129, 129, 129, 129], [130, 130, 130, 130, 130, 130, 130, 130, 130, 130, 130], [131, 131, 131, 131, 131, 131, 131, 131, 131, 131, 131], [132, 132, 132, 132, 132, 132, 132, 132, 132, 132, 132], [133, 133, 133, 133, 133, 133, 133, 133, 133, 133, 133], [134, 134, 134, 134, 134, 134, 134, 134, 134, 134, 134], [135, 135, 135, 135, 135, 135, 135, 135, 135, 135, 135], [136, 136, 136, 136, 136, 136, 136, 136, 136, 136, 136], [137, 137, 137, 137, 137, 137, 137, 137, 137, 137, 137], [138, 138, 138, 138, 138, 138, 138, 138, 138, 138, 138], [139, 139, 139, 139, 139, 139, 139, 139, 139, 139, 139], [140, 140, 140, 140, 140, 140, 140, 140, 140, 140, 140], [141, 141, 141, 141, 141, 141, 141, 141, 141, 141, 141], [142, 142, 142, 142, 142, 142, 142, 142, 142, 142, 142], [143, 143, 143, 143, 143, 143, 143, 143, 143, 143, 143], [144, 144, 144, 144, 144, 144, 144, 144, 144, 144, 144], [145, 145, 145, 145, 145, 145, 145, 145, 145, 145, 145], [146, 146, 146, 146, 146, 146, 146, 146, 146, 146, 146], [147, 147, 147, 147, 147, 147, 147, 147, 147, 147, 147], [148, 148, 148, 148, 148, 148, 148, 148, 148, 148, 148], [149, 149, 149, 149, 149, 149, 149, 149, 149, 149, 149], [150, 150, 150, 150, 150, 150, 150, 150, 150, 150, 150], [151, 151, 151, 151, 151, 151, 151, 151, 151, 151, 151], [152, 152, 152, 152, 152, 152, 152, 152, 152, 152, 152], [153, 153, 153, 153, 153, 153, 153, 153, 153, 153, 153], [154, 154, 154, 154, 154, 154, 154, 154, 154, 154, 154], [155, 155, 155, 155, 155, 155, 155, 155, 155, 155, 155], [156, 156, 156, 156, 156, 156, 156, 156, 156, 156, 156], [157, 157, 157, 157, 157, 157, 157, 157, 157, 157, 157], [158, 158, 158, 158, 158, 158, 158, 158, 158, 158, 158], [159, 159, 159, 159, 159, 159, 159, 159, 159, 159, 159], [160, 160, 160, 160, 160, 160, 160, 160, 160, 160, 160], [161, 161, 161, 161, 161, 161, 161, 161, 161, 161, 161], [162, 162, 162, 162, 162, 162, 162, 162, 162, 162, 162], [163, 163, 163, 163, 163, 163, 163, 163, 163, 163, 163], [164, 164, 164, 164, 164, 164, 164, 164, 164, 164, 164], [165, 165, 165, 165, 165, 165, 165, 165, 165, 165, 165], [166, 166, 166, 166, 166, 166, 166, 166, 166, 166, 166], [167, 167, 167, 167, 167, 167, 167, 167, 167, 167, 167], [168, 168, 168, 168, 168, 168, 168, 168, 168, 168, 168], [169, 169, 169, 169, 169, 169, 169, 169, 169, 169, 169], [170, 170, 170, 170, 170, 170, 170, 170, 170, 170, 170], [171, 171, 171, 171, 171, 171, 171, 171, 171, 171, 171], [172, 172, 172, 172, 172, 172, 172, 172, 172, 172, 172], [173, 173, 173, 173, 173, 173, 173, 173, 173, 173, 173], [174, 174, 174, 174, 174, 174, 174, 174, 174, 174, 174], [175, 175, 175, 175, 175, 175, 175, 175, 175, 175, 175], [176, 176, 176, 176, 176, 176, 176, 176, 176, 176, 176], [177, 177, 177, 177, 177, 177, 177, 177, 177, 177, 177], [178, 178, 178, 178, 178, 178, 178, 178, 178, 178, 178], [179, 179, 179, 179, 179, 179, 179, 179, 179, 179, 179], [180, 180, 180, 180, 180, 180, 180, 180, 180, 180, 180], [181, 181, 181, 181, 181, 181, 181, 181, 181, 181, 181], [182, 182, 182, 182, 182, 182, 182, 182, 182, 182, 182], [183, 183, 183, 183, 183, 183, 183, 183, 183, 183, 183], [184, 184, 184, 184, 184, 184, 184, 184, 184, 184, 184], [185, 185, 185, 185, 185, 185, 185, 185, 185, 185, 185], [186, 186, 186, 186, 186, 186, 186, 186, 186, 186, 186], [187, 187, 187, 187, 187, 187, 187, 187, 187, 187, 187], [188, 188, 188, 188, 188, 188, 188, 188, 188, 188, 188], [189, 189, 189, 189, 189, 189, 189, 189, 189, 189, 189], [190, 190, 190, 190, 190, 190, 190, 190, 190, 190, 190], [191, 191, 191, 191, 191, 191, 191, 191, 191, 191, 191], [192, 192, 192, 192, 192, 192, 192, 192, 192, 192, 192], [193, 193, 193, 193, 193, 193, 193, 193, 193, 193, 193], [194, 194, 194, 194, 194, 194, 194, 194, 194, 194, 194], [195, 195, 195, 195, 195, 195, 195, 195, 195, 195, 195], [196, 196, 196, 196, 196, 196, 196, 196, 196, 196, 196], [197, 197, 197, 197, 197, 197, 197, 197, 197, 197, 197], [198, 198, 198, 198, 198, 198, 198, 198, 198, 198, 198], [199, 199, 199, 199, 199, 199, 199, 199, 199, 199, 199]]\n",
            "    \n",
            "[[0, 0, 0, 0, 0, 0, 0, 1, 0, 0, 0], [0, 1, 0, 0, 0, 1, 1, 0, 0, 0, 1], [0, 1, 0, 3, 2, 0, 0, 1, 0, 0, 1], [0, 1, 1, 0, 3, 0, 0, 2, 1, 1, 1], [6, 0, 5, 3, 4, 2, 2, 2, 1, 4, 1], [0, 0, 2, 0, 0, 3, 0, 0, 1, 0, 2], [2, 2, 0, 3, 2, 2, 1, 1, 4, 3, 3], [3, 4, 0, 3, 3, 2, 2, 0, 4, 6, 4], [1, 2, 1, 1, 1, 1, 1, 0, 1, 3, 2], [0, 0, 0, 0, 0, 0, 0, 0, 0, 0, 0], [5, 3, 6, 6, 6, 4, 4, 4, 6, 3, 8], [4, 4, 4, 5, 2, 4, 4, 5, 5, 2, 5], [4, 3, 2, 1, 3, 3, 1, 3, 2, 2, 3], [3, 4, 1, 1, 1, 2, 1, 2, 0, 1, 4], [4, 1, 0, 0, 1, 5, 3, 2, 0, 0, 0], [8, 6, 5, 6, 4, 10, 8, 6, 7, 4, 5], [7, 5, 7, 5, 7, 6, 9, 8, 7, 5, 8], [8, 6, 6, 4, 4, 4, 4, 6, 8, 6, 8], [7, 2, 4, 7, 8, 5, 4, 4, 1, 8, 6], [6, 2, 3, 4, 4, 6, 4, 7, 5, 5, 4], [7, 6, 8, 7, 6, 5, 6, 7, 6, 6, 4], [17, 6, 14, 15, 13, 14, 17, 9, 18, 18, 8], [4, 9, 7, 10, 9, 13, 7, 9, 7, 5, 6], [15, 10, 9, 8, 6, 7, 10, 9, 14, 5, 2], [4, 5, 6, 4, 4, 4, 8, 4, 5, 6, 7], [12, 8, 8, 7, 6, 9, 6, 10, 8, 11, 8], [8, 4, 6, 9, 9, 5, 4, 9, 8, 4, 5], [9, 10, 15, 11, 12, 12, 8, 10, 13, 10, 10], [9, 13, 6, 4, 14, 13, 4, 10, 11, 5, 5], [14, 12, 12, 11, 16, 12, 14, 16, 8, 17, 8], [3, 5, 7, 8, 7, 13, 5, 8, 7, 9, 9], [10, 13, 8, 13, 9, 12, 7, 14, 11, 9, 9], [10, 18, 19, 13, 21, 15, 19, 19, 18, 16, 12], [24, 23, 24, 17, 16, 25, 25, 20, 21, 22, 25], [15, 13, 13, 11, 14, 7, 7, 7, 11, 15, 7], [18, 13, 13, 10, 6, 13, 16, 13, 24, 15, 20], [16, 18, 19, 11, 11, 16, 11, 7, 15, 14, 15], [4, 5, 0, 3, 3, 4, 5, 3, 4, 4, 2], [13, 14, 14, 13, 18, 16, 16, 15, 14, 9, 14], [14, 14, 15, 18, 13, 14, 17, 22, 23, 13, 18], [10, 11, 7, 8, 11, 8, 7, 7, 7, 7, 8], [3, 4, 4, 1, 4, 3, 5, 2, 3, 0, 10], [10, 13, 13, 11, 21, 7, 13, 10, 12, 13, 8], [15, 15, 9, 11, 14, 10, 17, 13, 14, 14, 16], [11, 6, 10, 11, 10, 8, 10, 8, 9, 15, 10], [14, 8, 11, 12, 3, 6, 4, 16, 13, 12, 6], [14, 17, 13, 12, 13, 16, 9, 17, 14, 13, 15], [12, 11, 13, 19, 13, 16, 16, 14, 13, 17, 6], [5, 5, 5, 6, 6, 8, 3, 3, 4, 5, 2], [29, 40, 41, 33, 44, 31, 38, 31, 41, 34, 38], [26, 19, 23, 19, 20, 21, 22, 16, 20, 22, 17], [12, 8, 12, 5, 12, 9, 11, 8, 13, 15, 7], [13, 16, 24, 20, 18, 16, 13, 14, 22, 18, 16], [16, 17, 11, 19, 14, 19, 12, 17, 11, 13, 21], [7, 14, 5, 16, 14, 7, 13, 16, 9, 9, 11], [29, 23, 25, 23, 28, 20, 28, 22, 25, 33, 31], [0, 0, 0, 0, 0, 0, 0, 0, 0, 0, 0], [19, 21, 22, 25, 29, 16, 21, 21, 25, 19, 14], [10, 15, 11, 11, 11, 14, 8, 12, 9, 13, 13], [11, 20, 11, 12, 8, 9, 11, 5, 17, 9, 15], [14, 18, 19, 19, 20, 25, 19, 11, 27, 21, 14], [25, 20, 28, 23, 27, 17, 27, 28, 24, 12, 19], [16, 15, 22, 11, 15, 23, 15, 23, 15, 26, 18], [18, 20, 18, 25, 29, 17, 15, 21, 22, 20, 21], [32, 37, 18, 37, 29, 36, 31, 31, 27, 33, 35], [31, 28, 27, 26, 27, 25, 27, 21, 32, 33, 24], [13, 12, 13, 13, 15, 15, 6, 14, 8, 12, 15], [38, 41, 35, 38, 27, 37, 36, 28, 47, 31, 29], [33, 23, 22, 35, 43, 43, 26, 34, 33, 35, 40], [9, 9, 6, 5, 14, 10, 6, 7, 10, 5, 7], [42, 45, 39, 46, 48, 40, 45, 45, 48, 45, 53], [33, 32, 36, 24, 26, 20, 27, 22, 36, 22, 32], [14, 14, 12, 10, 20, 16, 26, 12, 16, 16, 14], [5, 7, 16, 8, 7, 8, 13, 7, 4, 2, 7], [23, 27, 16, 24, 23, 26, 30, 20, 25, 30, 18], [15, 24, 16, 20, 19, 13, 14, 17, 26, 11, 15], [21, 23, 20, 23, 17, 23, 22, 20, 30, 30, 17], [57, 57, 58, 58, 61, 67, 59, 60, 57, 66, 62], [6, 9, 11, 11, 9, 7, 13, 12, 9, 7, 6], [0, 0, 0, 0, 0, 0, 0, 0, 0, 0, 0], [9, 2, 10, 5, 5, 9, 7, 7, 8, 7, 7], [12, 18, 18, 16, 16, 19, 15, 19, 10, 16, 21], [22, 14, 16, 20, 18, 15, 17, 14, 15, 15, 11], [7, 7, 4, 9, 6, 11, 17, 8, 11, 7, 8], [15, 15, 18, 21, 19, 19, 15, 23, 17, 14, 17], [53, 64, 61, 51, 48, 53, 60, 62, 54, 57, 45], [23, 37, 24, 29, 30, 31, 31, 36, 33, 40, 36], [19, 22, 24, 20, 21, 16, 15, 17, 18, 14, 11], [6, 7, 3, 9, 8, 9, 11, 6, 6, 12, 8], [20, 10, 10, 19, 12, 24, 26, 16, 13, 21, 15], [42, 41, 39, 54, 42, 31, 38, 29, 39, 41, 51], [56, 54, 53, 51, 55, 45, 57, 64, 46, 49, 46], [35, 34, 40, 35, 49, 40, 37, 31, 31, 36, 31], [0, 0, 0, 0, 0, 0, 0, 0, 0, 0, 0], [18, 18, 21, 18, 20, 18, 14, 17, 19, 22, 20], [35, 37, 40, 26, 44, 40, 41, 31, 37, 44, 44], [31, 37, 28, 27, 28, 41, 37, 35, 27, 30, 32], [17, 19, 20, 21, 13, 18, 18, 14, 17, 15, 24], [29, 34, 38, 37, 31, 39, 35, 34, 41, 38, 39], [25, 34, 37, 30, 28, 27, 39, 36, 36, 27, 30], [22, 20, 26, 10, 18, 24, 18, 14, 20, 18, 28], [19, 10, 20, 20, 14, 8, 17, 20, 23, 17, 26], [35, 43, 40, 42, 51, 39, 49, 37, 33, 50, 38], [22, 20, 21, 15, 25, 17, 21, 22, 24, 17, 29], [17, 20, 23, 23, 26, 28, 21, 23, 20, 21, 18], [29, 24, 31, 29, 26, 31, 22, 35, 35, 47, 36], [34, 31, 32, 26, 31, 38, 25, 32, 35, 39, 33], [31, 22, 12, 26, 22, 18, 23, 22, 23, 22, 11], [18, 42, 36, 49, 31, 26, 27, 32, 37, 35, 41], [50, 36, 40, 44, 51, 37, 42, 39, 47, 40, 39], [32, 39, 46, 21, 31, 36, 43, 30, 36, 41, 31], [38, 34, 41, 28, 29, 32, 31, 36, 31, 41, 36], [39, 29, 42, 36, 42, 30, 33, 33, 36, 35, 34], [34, 31, 25, 34, 40, 30, 41, 31, 30, 34, 29], [48, 45, 46, 50, 37, 38, 38, 46, 50, 38, 52], [38, 32, 44, 31, 44, 46, 25, 30, 32, 39, 34], [45, 39, 31, 30, 36, 37, 46, 36, 32, 26, 33], [42, 46, 56, 44, 44, 68, 58, 40, 42, 42, 40], [47, 41, 50, 47, 44, 47, 57, 48, 56, 60, 52], [17, 9, 8, 8, 9, 14, 19, 9, 7, 12, 13], [13, 9, 9, 7, 12, 11, 14, 16, 9, 12, 17], [18, 9, 15, 8, 14, 17, 12, 14, 14, 11, 16], [46, 45, 35, 49, 51, 54, 56, 45, 48, 54, 49], [27, 21, 25, 29, 31, 27, 17, 22, 21, 21, 23], [28, 25, 21, 25, 21, 22, 26, 20, 33, 26, 29], [31, 19, 32, 25, 26, 20, 26, 20, 23, 30, 33], [58, 59, 46, 46, 50, 56, 53, 52, 50, 51, 44], [0, 0, 0, 0, 0, 0, 0, 0, 0, 0, 0], [77, 62, 60, 63, 64, 67, 70, 64, 62, 68, 58], [37, 45, 44, 34, 52, 26, 38, 38, 49, 46, 44], [30, 35, 44, 43, 33, 40, 39, 38, 40, 52, 46], [58, 59, 71, 58, 66, 65, 68, 70, 68, 65, 78], [25, 33, 30, 23, 26, 29, 33, 27, 30, 26, 24], [66, 60, 81, 53, 62, 64, 71, 70, 64, 61, 66], [36, 44, 37, 32, 33, 41, 55, 34, 50, 42, 47], [26, 26, 25, 24, 20, 25, 24, 31, 21, 25, 29], [77, 66, 60, 68, 65, 73, 65, 68, 73, 66, 69], [89, 110, 109, 102, 102, 107, 91, 99, 98, 86, 97], [58, 52, 63, 57, 56, 48, 72, 38, 57, 48, 47], [36, 35, 39, 39, 43, 43, 40, 44, 43, 40, 40], [36, 52, 48, 47, 33, 57, 45, 37, 37, 50, 46], [64, 46, 51, 47, 57, 60, 49, 57, 47, 58, 54], [65, 72, 80, 74, 75, 80, 60, 68, 65, 56, 71], [107, 92, 107, 92, 95, 88, 100, 98, 102, 107, 92], [43, 49, 33, 41, 38, 41, 52, 48, 50, 57, 42], [16, 18, 13, 16, 14, 15, 12, 17, 17, 14, 14], [24, 31, 27, 37, 19, 24, 31, 27, 26, 36, 27], [40, 24, 30, 28, 22, 30, 18, 34, 24, 18, 28], [22, 18, 20, 38, 25, 26, 28, 23, 26, 19, 30], [39, 38, 47, 41, 45, 48, 49, 35, 48, 39, 49], [52, 57, 68, 52, 48, 71, 56, 59, 58, 54, 71], [82, 73, 74, 73, 76, 74, 76, 87, 90, 79, 82], [33, 34, 24, 29, 28, 26, 23, 24, 28, 27, 27], [117, 101, 98, 88, 118, 100, 119, 117, 117, 103, 94], [132, 112, 129, 122, 122, 109, 135, 130, 117, 119, 121], [49, 50, 51, 52, 52, 52, 41, 48, 42, 55, 48], [47, 42, 37, 51, 43, 58, 49, 41, 43, 42, 46], [64, 65, 57, 63, 69, 68, 64, 65, 64, 66, 67], [33, 21, 38, 30, 45, 27, 35, 39, 35, 34, 26], [72, 58, 65, 61, 76, 73, 63, 55, 69, 68, 58], [49, 53, 36, 36, 48, 44, 42, 45, 49, 43, 47], [28, 32, 29, 35, 29, 40, 25, 28, 33, 39, 33], [67, 58, 82, 56, 72, 66, 79, 56, 59, 63, 91], [134, 138, 135, 105, 128, 127, 137, 134, 125, 120, 134], [14, 23, 13, 15, 23, 17, 15, 14, 16, 18, 17], [61, 68, 66, 60, 61, 58, 61, 64, 68, 62, 62], [141, 137, 121, 152, 134, 130, 124, 133, 119, 122, 147], [0, 0, 0, 0, 0, 0, 0, 0, 0, 0, 0], [82, 70, 62, 78, 64, 67, 54, 59, 52, 63, 84], [14, 15, 9, 15, 16, 21, 16, 20, 17, 18, 16], [43, 50, 41, 62, 50, 52, 52, 46, 46, 50, 55], [39, 31, 38, 31, 35, 37, 33, 47, 36, 36, 39], [16, 13, 16, 21, 21, 21, 14, 16, 18, 10, 16], [12, 13, 13, 15, 16, 21, 20, 20, 14, 19, 12], [67, 78, 74, 66, 72, 66, 65, 68, 74, 83, 69], [40, 36, 37, 32, 36, 32, 34, 38, 33, 30, 38], [101, 118, 95, 115, 117, 88, 121, 118, 108, 110, 92], [19, 17, 11, 27, 16, 20, 15, 19, 12, 14, 22], [33, 46, 38, 52, 55, 47, 71, 63, 63, 44, 49], [38, 42, 39, 42, 34, 37, 42, 33, 36, 29, 34], [53, 61, 56, 60, 49, 59, 64, 46, 59, 53, 68], [52, 57, 64, 49, 61, 62, 51, 62, 52, 60, 48], [70, 47, 50, 47, 66, 51, 49, 45, 67, 48, 49], [75, 86, 61, 84, 74, 74, 69, 61, 74, 81, 80], [81, 78, 80, 55, 71, 74, 61, 75, 72, 72, 84], [58, 48, 67, 50, 53, 53, 51, 54, 50, 58, 59], [107, 112, 117, 113, 108, 123, 110, 125, 117, 118, 116], [26, 34, 32, 44, 38, 36, 42, 40, 42, 32, 42], [142, 152, 133, 132, 128, 124, 144, 130, 129, 143, 139], [59, 55, 59, 53, 65, 60, 46, 54, 65, 66, 62], [8, 12, 16, 13, 21, 14, 24, 24, 19, 20, 26], [72, 85, 93, 64, 81, 77, 92, 78, 61, 74, 83], [72, 65, 63, 54, 56, 75, 53, 69, 71, 54, 50], [54, 56, 62, 62, 62, 42, 60, 55, 63, 54, 64], [52, 69, 63, 65, 55, 38, 52, 46, 61, 67, 58], [20, 20, 22, 25, 21, 20, 17, 18, 15, 17, 14], [90, 73, 93, 69, 75, 87, 70, 72, 67, 82, 63], [68, 45, 90, 66, 84, 87, 81, 79, 67, 57, 81], [127, 119, 120, 110, 122, 112, 120, 114, 121, 112, 136], [18, 18, 19, 21, 15, 18, 14, 13, 22, 29, 17]]\n"
          ],
          "name": "stdout"
        }
      ]
    },
    {
      "cell_type": "code",
      "metadata": {
        "id": "5t0n81uaO3c8"
      },
      "source": [
        "X = np.array(x)\r\n",
        "Y = np.array(y)"
      ],
      "execution_count": null,
      "outputs": []
    },
    {
      "cell_type": "code",
      "metadata": {
        "id": "UYXEEnl0-752",
        "colab": {
          "base_uri": "https://localhost:8080/"
        },
        "outputId": "f453ee5b-2d53-4690-c6f3-8ed21669bd9e"
      },
      "source": [
        "scaler = StandardScaler()\r\n",
        "x_scaled = scaler.fit_transform(X)\r\n",
        "y_scaled = scaler.fit_transform(Y)\r\n",
        "print(x_scaled)\r\n",
        "print(y_scaled)"
      ],
      "execution_count": null,
      "outputs": [
        {
          "output_type": "stream",
          "text": [
            "[[-1.7234121  -1.7234121  -1.7234121  ... -1.7234121  -1.7234121\n",
            "  -1.7234121 ]\n",
            " [-1.70609137 -1.70609137 -1.70609137 ... -1.70609137 -1.70609137\n",
            "  -1.70609137]\n",
            " [-1.68877065 -1.68877065 -1.68877065 ... -1.68877065 -1.68877065\n",
            "  -1.68877065]\n",
            " ...\n",
            " [ 1.68877065  1.68877065  1.68877065 ...  1.68877065  1.68877065\n",
            "   1.68877065]\n",
            " [ 1.70609137  1.70609137  1.70609137 ...  1.70609137  1.70609137\n",
            "   1.70609137]\n",
            " [ 1.7234121   1.7234121   1.7234121  ...  1.7234121   1.7234121\n",
            "   1.7234121 ]]\n",
            "[[-1.09361211 -1.09038658 -1.09189858 ... -1.14410582 -1.12936603\n",
            "  -1.0994421 ]\n",
            " [-1.09361211 -1.0559025  -1.09189858 ... -1.14410582 -1.12936603\n",
            "  -1.06542471]\n",
            " [-1.09361211 -1.0559025  -1.09189858 ... -1.14410582 -1.12936603\n",
            "  -1.06542471]\n",
            " ...\n",
            " [ 1.22632623  0.46139698  1.97714803 ...  1.23907745  0.88735902\n",
            "   1.65596663]\n",
            " [ 3.23921392  3.01321882  3.00016357 ...  3.15985204  2.8333218\n",
            "   3.52692317]\n",
            " [-0.47951079 -0.46967316 -0.44398874 ... -0.36156803 -0.10331293\n",
            "  -0.52114644]]\n"
          ],
          "name": "stdout"
        }
      ]
    },
    {
      "cell_type": "code",
      "metadata": {
        "id": "8RlYCbZ4zhkl"
      },
      "source": [
        "X_train, X_test, Y_train, Y_test = train_test_split(x_scaled, y_scaled, test_size=0.3, random_state=10)\r\n",
        "#X_train, X_test, Y_train, Y_test = train_test_split(X, Y, test_size=0.3, random_state=10)"
      ],
      "execution_count": null,
      "outputs": []
    },
    {
      "cell_type": "code",
      "metadata": {
        "id": "VK-c1-onWk3O",
        "colab": {
          "base_uri": "https://localhost:8080/"
        },
        "outputId": "da57253e-638c-49f1-c77e-2e91e3b409cb"
      },
      "source": [
        "regr_1 = DecisionTreeRegressor(max_depth=1)\r\n",
        "regr_1.fit(X_train,Y_train)"
      ],
      "execution_count": null,
      "outputs": [
        {
          "output_type": "execute_result",
          "data": {
            "text/plain": [
              "DecisionTreeRegressor(ccp_alpha=0.0, criterion='mse', max_depth=1,\n",
              "                      max_features=None, max_leaf_nodes=None,\n",
              "                      min_impurity_decrease=0.0, min_impurity_split=None,\n",
              "                      min_samples_leaf=1, min_samples_split=2,\n",
              "                      min_weight_fraction_leaf=0.0, presort='deprecated',\n",
              "                      random_state=None, splitter='best')"
            ]
          },
          "metadata": {
            "tags": []
          },
          "execution_count": 100
        }
      ]
    },
    {
      "cell_type": "code",
      "metadata": {
        "id": "xrJBARdt83pT"
      },
      "source": [
        "  Y_pred = regr_1.predict(X_test)\r\n",
        "  "
      ],
      "execution_count": null,
      "outputs": []
    },
    {
      "cell_type": "code",
      "metadata": {
        "id": "ByBS2w6mTj1-",
        "colab": {
          "base_uri": "https://localhost:8080/"
        },
        "outputId": "ac596c22-8f11-46b6-ed5c-ddccf66ed8d2"
      },
      "source": [
        "DTr_square = metrics.r2_score(X_test,Y_test)\r\n",
        "print(\"r2 score = \", DTr_square)\r\n",
        "\r\n",
        "DTmse = mean_squared_error(Y_test, Y_pred)\r\n",
        "print('mse = ', DTmse)\r\n",
        "DTRrmse = np.sqrt(DTmse)\r\n",
        "print(\"rmse = \", DTRrmse)"
      ],
      "execution_count": null,
      "outputs": [
        {
          "output_type": "stream",
          "text": [
            "r2 score =  0.23422455377877796\n",
            "mse =  0.6736943507278302\n",
            "rmse =  0.8207888587985526\n"
          ],
          "name": "stdout"
        }
      ]
    },
    {
      "cell_type": "code",
      "metadata": {
        "id": "-umOJTW1VWH7",
        "colab": {
          "base_uri": "https://localhost:8080/",
          "height": 299
        },
        "outputId": "bb287bf3-b75d-4c84-fc9c-d99f0efbc84d"
      },
      "source": [
        "plt.figure()\r\n",
        "plt.scatter(x_scaled, y_scaled, color='blue', label=\"actual value\")\r\n",
        "#plt.scatter(x_scaled, y_scaled, color='blue', label=\"actual value\")\r\n",
        "plt.scatter(X_test, Y_pred, color=\"red\", label=\"predicted value\")\r\n",
        "#plt.xlabel(\"budget\")\r\n",
        "#plt.ylabel(\"samples\")\r\n",
        "plt.legend()\r\n",
        "plt.title(\"Decision Tree Regressor\")\r\n",
        "plt.plot()"
      ],
      "execution_count": null,
      "outputs": [
        {
          "output_type": "execute_result",
          "data": {
            "text/plain": [
              "[]"
            ]
          },
          "metadata": {
            "tags": []
          },
          "execution_count": 103
        },
        {
          "output_type": "display_data",
          "data": {
            "image/png": "[encoded data removed]",
            "text/plain": [
              "<Figure size 432x288 with 1 Axes>"
            ]
          },
          "metadata": {
            "tags": [],
            "needs_background": "light"
          }
        }
      ]
    },
    {
      "cell_type": "code",
      "metadata": {
        "id": "PaY_-aCWpIks",
        "colab": {
          "base_uri": "https://localhost:8080/",
          "height": 402
        },
        "outputId": "2b9057f9-dddf-457c-f81c-8fe5f5ba454d"
      },
      "source": [
        "  #to see the test data and the predicted data\r\n",
        "df = pd.DataFrame({'Real Values':Y_test.reshape(-1), 'Predicted Values':Y_pred.reshape(-1)})\r\n",
        "df"
      ],
      "execution_count": null,
      "outputs": [
        {
          "output_type": "execute_result",
          "data": {
            "text/html": [
              "<div>\n",
              "<style scoped>\n",
              "    .dataframe tbody tr th:only-of-type {\n",
              "        vertical-align: middle;\n",
              "    }\n",
              "\n",
              "    .dataframe tbody tr th {\n",
              "        vertical-align: top;\n",
              "    }\n",
              "\n",
              "    .dataframe thead th {\n",
              "        text-align: right;\n",
              "    }\n",
              "</style>\n",
              "<table border=\"1\" class=\"dataframe\">\n",
              "  <thead>\n",
              "    <tr style=\"text-align: right;\">\n",
              "      <th></th>\n",
              "      <th>Real Values</th>\n",
              "      <th>Predicted Values</th>\n",
              "    </tr>\n",
              "  </thead>\n",
              "  <tbody>\n",
              "    <tr>\n",
              "      <th>0</th>\n",
              "      <td>-0.566190</td>\n",
              "      <td>-0.611671</td>\n",
              "    </tr>\n",
              "    <tr>\n",
              "      <th>1</th>\n",
              "      <td>-0.439694</td>\n",
              "      <td>-0.582076</td>\n",
              "    </tr>\n",
              "    <tr>\n",
              "      <th>2</th>\n",
              "      <td>-0.566506</td>\n",
              "      <td>-0.598242</td>\n",
              "    </tr>\n",
              "    <tr>\n",
              "      <th>3</th>\n",
              "      <td>-0.683879</td>\n",
              "      <td>-0.586171</td>\n",
              "    </tr>\n",
              "    <tr>\n",
              "      <th>4</th>\n",
              "      <td>-0.419043</td>\n",
              "      <td>-0.587729</td>\n",
              "    </tr>\n",
              "    <tr>\n",
              "      <th>...</th>\n",
              "      <td>...</td>\n",
              "      <td>...</td>\n",
              "    </tr>\n",
              "    <tr>\n",
              "      <th>655</th>\n",
              "      <td>-0.024665</td>\n",
              "      <td>-0.618096</td>\n",
              "    </tr>\n",
              "    <tr>\n",
              "      <th>656</th>\n",
              "      <td>0.031557</td>\n",
              "      <td>-0.619189</td>\n",
              "    </tr>\n",
              "    <tr>\n",
              "      <th>657</th>\n",
              "      <td>-0.037376</td>\n",
              "      <td>-0.584094</td>\n",
              "    </tr>\n",
              "    <tr>\n",
              "      <th>658</th>\n",
              "      <td>-0.026715</td>\n",
              "      <td>-0.601823</td>\n",
              "    </tr>\n",
              "    <tr>\n",
              "      <th>659</th>\n",
              "      <td>-0.107060</td>\n",
              "      <td>-0.610428</td>\n",
              "    </tr>\n",
              "  </tbody>\n",
              "</table>\n",
              "<p>660 rows × 2 columns</p>\n",
              "</div>"
            ],
            "text/plain": [
              "     Real Values  Predicted Values\n",
              "0      -0.566190         -0.611671\n",
              "1      -0.439694         -0.582076\n",
              "2      -0.566506         -0.598242\n",
              "3      -0.683879         -0.586171\n",
              "4      -0.419043         -0.587729\n",
              "..           ...               ...\n",
              "655    -0.024665         -0.618096\n",
              "656     0.031557         -0.619189\n",
              "657    -0.037376         -0.584094\n",
              "658    -0.026715         -0.601823\n",
              "659    -0.107060         -0.610428\n",
              "\n",
              "[660 rows x 2 columns]"
            ]
          },
          "metadata": {
            "tags": []
          },
          "execution_count": 76
        }
      ]
    },
    {
      "cell_type": "markdown",
      "metadata": {
        "id": "Fe_L49ElQu8S"
      },
      "source": [
        "# polynomial regression\r\n",
        "#### link: https://towardsdatascience.com/polynomial-regression-bbe8b9d97491"
      ]
    },
    {
      "cell_type": "code",
      "metadata": {
        "id": "a-RdB2OEQqs8",
        "colab": {
          "base_uri": "https://localhost:8080/",
          "height": 279
        },
        "outputId": "f3dbaedb-fed0-4b44-9ae3-a94664f9f54d"
      },
      "source": [
        "plt.scatter(X, Y)\r\n",
        "plt.xlabel(\"number of trial\")\r\n",
        "plt.ylabel(\"occurance of highest rarity\")\r\n",
        "plt.show()"
      ],
      "execution_count": null,
      "outputs": [
        {
          "output_type": "display_data",
          "data": {
            "image/png": "[encoded data removed]",
            "text/plain": [
              "<Figure size 432x288 with 1 Axes>"
            ]
          },
          "metadata": {
            "tags": [],
            "needs_background": "light"
          }
        }
      ]
    },
    {
      "cell_type": "code",
      "metadata": {
        "id": "_-jiCZ3bQykb",
        "colab": {
          "base_uri": "https://localhost:8080/"
        },
        "outputId": "cd26752b-b44e-4830-b3f3-c75fee498b0e"
      },
      "source": [
        "polynomial_feature = PolynomialFeatures(degree=2)\r\n",
        "x_poly = polynomial_feature.fit_transform(x_scaled)\r\n",
        "model = LinearRegression()\r\n",
        "model.fit(x_poly, y_scaled)\r\n",
        "y_poly_pred = model.predict(x_poly)\r\n",
        "y_poly_pred"
      ],
      "execution_count": null,
      "outputs": [
        {
          "output_type": "execute_result",
          "data": {
            "text/plain": [
              "array([[-1.06484598, -1.06987821, -1.07339536, ..., -1.11278163,\n",
              "        -1.12868105, -1.09691786],\n",
              "       [-1.05573409, -1.06057896, -1.06432797, ..., -1.10265384,\n",
              "        -1.11811968, -1.08755483],\n",
              "       [-1.0465981 , -1.05125769, -1.0552345 , ..., -1.09251006,\n",
              "        -1.10754646, -1.07816662],\n",
              "       ...,\n",
              "       [ 1.19531813,  1.18718476,  1.21615309, ...,  1.19127319,\n",
              "         1.18070212,  1.23354515],\n",
              "       [ 1.20917616,  1.20082187,  1.23035591, ...,  1.20455282,\n",
              "         1.19359812,  1.24786681],\n",
              "       [ 1.22305827,  1.214481  ,  1.2445848 , ...,  1.21784845,\n",
              "         1.20650596,  1.26221363]])"
            ]
          },
          "metadata": {
            "tags": []
          },
          "execution_count": 106
        }
      ]
    },
    {
      "cell_type": "code",
      "metadata": {
        "id": "EnERMZnNSpK0",
        "colab": {
          "base_uri": "https://localhost:8080/"
        },
        "outputId": "c21f9dbc-729d-4c0f-d978-1ad2dc10ef84"
      },
      "source": [
        "polymse = mean_squared_error(y_scaled, y_poly_pred)\r\n",
        "polyrmse = np.sqrt(polymse)\r\n",
        "polyr2 = r2_score(y_scaled,y_poly_pred)\r\n",
        "print(\"mean squared error = \", polymse) # mean squared error\r\n",
        "print(\"root mean squared error = \", polyrmse)\r\n",
        "print(\"r2 score = \", polyr2) # r2 score"
      ],
      "execution_count": null,
      "outputs": [
        {
          "output_type": "stream",
          "text": [
            "mean squared error =  0.5439611890802802\n",
            "root mean squared error =  0.7375372458935754\n",
            "r2 score =  0.4560388109197197\n"
          ],
          "name": "stdout"
        }
      ]
    },
    {
      "cell_type": "code",
      "metadata": {
        "id": "AO9inn1nTDBn",
        "colab": {
          "base_uri": "https://localhost:8080/",
          "height": 281
        },
        "outputId": "e8f7b7dd-53bf-4b25-f458-11f5a22ae9bc"
      },
      "source": [
        "plt.title(\"Polynomial Regression\")\r\n",
        "plt.scatter(x_scaled, y_scaled, color=\"blue\", label=\"actual data\")\r\n",
        "plt.scatter(x_scaled, y_poly_pred, color='red', label=\"predicted data\")\r\n",
        "plt.legend()\r\n",
        "plt.show()"
      ],
      "execution_count": null,
      "outputs": [
        {
          "output_type": "display_data",
          "data": {
            "image/png": "[encoded data removed]",
            "text/plain": [
              "<Figure size 432x288 with 1 Axes>"
            ]
          },
          "metadata": {
            "tags": [],
            "needs_background": "light"
          }
        }
      ]
    },
    {
      "cell_type": "code",
      "metadata": {
        "colab": {
          "base_uri": "https://localhost:8080/",
          "height": 402
        },
        "id": "WutlOyn3aTfO",
        "outputId": "4494f348-a46f-4480-ba85-a11e862381e6"
      },
      "source": [
        "df = pd.DataFrame({'Real Values':y_scaled.reshape(-1), 'Predicted Values':y_poly_pred.reshape(-1)})\r\n",
        "df"
      ],
      "execution_count": null,
      "outputs": [
        {
          "output_type": "execute_result",
          "data": {
            "text/html": [
              "<div>\n",
              "<style scoped>\n",
              "    .dataframe tbody tr th:only-of-type {\n",
              "        vertical-align: middle;\n",
              "    }\n",
              "\n",
              "    .dataframe tbody tr th {\n",
              "        vertical-align: top;\n",
              "    }\n",
              "\n",
              "    .dataframe thead th {\n",
              "        text-align: right;\n",
              "    }\n",
              "</style>\n",
              "<table border=\"1\" class=\"dataframe\">\n",
              "  <thead>\n",
              "    <tr style=\"text-align: right;\">\n",
              "      <th></th>\n",
              "      <th>Real Values</th>\n",
              "      <th>Predicted Values</th>\n",
              "    </tr>\n",
              "  </thead>\n",
              "  <tbody>\n",
              "    <tr>\n",
              "      <th>0</th>\n",
              "      <td>-1.172606</td>\n",
              "      <td>-1.078428</td>\n",
              "    </tr>\n",
              "    <tr>\n",
              "      <th>1</th>\n",
              "      <td>-1.125141</td>\n",
              "      <td>-1.039519</td>\n",
              "    </tr>\n",
              "    <tr>\n",
              "      <th>2</th>\n",
              "      <td>-1.124052</td>\n",
              "      <td>-1.073676</td>\n",
              "    </tr>\n",
              "    <tr>\n",
              "      <th>3</th>\n",
              "      <td>-1.122007</td>\n",
              "      <td>-1.056054</td>\n",
              "    </tr>\n",
              "    <tr>\n",
              "      <th>4</th>\n",
              "      <td>-1.138772</td>\n",
              "      <td>-1.078725</td>\n",
              "    </tr>\n",
              "    <tr>\n",
              "      <th>...</th>\n",
              "      <td>...</td>\n",
              "      <td>...</td>\n",
              "    </tr>\n",
              "    <tr>\n",
              "      <th>2195</th>\n",
              "      <td>0.416492</td>\n",
              "      <td>1.184431</td>\n",
              "    </tr>\n",
              "    <tr>\n",
              "      <th>2196</th>\n",
              "      <td>0.674767</td>\n",
              "      <td>1.236818</td>\n",
              "    </tr>\n",
              "    <tr>\n",
              "      <th>2197</th>\n",
              "      <td>0.797612</td>\n",
              "      <td>1.206632</td>\n",
              "    </tr>\n",
              "    <tr>\n",
              "      <th>2198</th>\n",
              "      <td>0.210750</td>\n",
              "      <td>1.157852</td>\n",
              "    </tr>\n",
              "    <tr>\n",
              "      <th>2199</th>\n",
              "      <td>0.438966</td>\n",
              "      <td>1.270178</td>\n",
              "    </tr>\n",
              "  </tbody>\n",
              "</table>\n",
              "<p>2200 rows × 2 columns</p>\n",
              "</div>"
            ],
            "text/plain": [
              "      Real Values  Predicted Values\n",
              "0       -1.172606         -1.078428\n",
              "1       -1.125141         -1.039519\n",
              "2       -1.124052         -1.073676\n",
              "3       -1.122007         -1.056054\n",
              "4       -1.138772         -1.078725\n",
              "...           ...               ...\n",
              "2195     0.416492          1.184431\n",
              "2196     0.674767          1.236818\n",
              "2197     0.797612          1.206632\n",
              "2198     0.210750          1.157852\n",
              "2199     0.438966          1.270178\n",
              "\n",
              "[2200 rows x 2 columns]"
            ]
          },
          "metadata": {
            "tags": []
          },
          "execution_count": 68
        }
      ]
    },
    {
      "cell_type": "markdown",
      "metadata": {
        "id": "Ib_phjFOdhiL"
      },
      "source": [
        "# Random Forest \r\n",
        "### link: https://stackabuse.com/random-forest-algorithm-with-python-and-scikit-learn/"
      ]
    },
    {
      "cell_type": "code",
      "metadata": {
        "id": "onUy0JEfxhDg"
      },
      "source": [
        "# random forest for regression\r\n",
        "from sklearn.ensemble import RandomForestRegressor\r\n",
        "\r\n",
        "regressor = RandomForestRegressor(n_estimators=200)\r\n",
        "regressor.fit(X_train, Y_train)\r\n",
        "y_pred = regressor.predict(X_test)\r\n",
        "RFMAE = metrics.mean_absolute_error(Y_test, y_pred)\r\n",
        "RFMSE = metrics.mean_squared_error(Y_test, y_pred)\r\n",
        "RFRMSE =  np.sqrt(metrics.mean_squared_error(Y_test, y_pred))\r\n",
        "RFr2score = r2_score(Y_test, y_pred)\r\n",
        "#r2s = r2_score(Y_train, y_pred)"
      ],
      "execution_count": null,
      "outputs": []
    },
    {
      "cell_type": "code",
      "metadata": {
        "id": "69Ez693AzQVF",
        "colab": {
          "base_uri": "https://localhost:8080/"
        },
        "outputId": "860b6d13-2b2d-4f1b-9796-e9cc3c457559"
      },
      "source": [
        "print('Mean Absolute Error:',RFMAE)\r\n",
        "print('Mean Squared Error:', RFMSE)\r\n",
        "print('Root Mean Squared Error:', RFRMSE)\r\n",
        "print(\"Coefficient of Determination : \",RFr2score)"
      ],
      "execution_count": null,
      "outputs": [
        {
          "output_type": "stream",
          "text": [
            "Mean Absolute Error: 0.6200986887187949\n",
            "Mean Squared Error: 0.8473530619367037\n",
            "Root Mean Squared Error: 0.9205178227154017\n",
            "Coefficient of Determination :  0.1837368679380612\n"
          ],
          "name": "stdout"
        }
      ]
    },
    {
      "cell_type": "code",
      "metadata": {
        "id": "q-VX0MeFeUkR",
        "colab": {
          "base_uri": "https://localhost:8080/",
          "height": 299
        },
        "outputId": "b4524731-dcbd-4276-a74c-86af34037eab"
      },
      "source": [
        "plt.title(\"Random Forest\")\r\n",
        "plt.scatter(x_scaled, y_scaled, color=\"blue\", label=\"actual data\")\r\n",
        "plt.plot(X_test, y_pred, \"o\", color=\"red\", linewidth=\"1\")\r\n",
        "plt.legend()"
      ],
      "execution_count": null,
      "outputs": [
        {
          "output_type": "execute_result",
          "data": {
            "text/plain": [
              "<matplotlib.legend.Legend at 0x7f67425eb0f0>"
            ]
          },
          "metadata": {
            "tags": []
          },
          "execution_count": 111
        },
        {
          "output_type": "display_data",
          "data": {
            "image/png": "[encoded data removed]",
            "text/plain": [
              "<Figure size 432x288 with 1 Axes>"
            ]
          },
          "metadata": {
            "tags": [],
            "needs_background": "light"
          }
        }
      ]
    },
    {
      "cell_type": "code",
      "metadata": {
        "colab": {
          "base_uri": "https://localhost:8080/",
          "height": 402
        },
        "id": "t_Hp0VelbP-y",
        "outputId": "4a6dc160-022f-4df7-8631-dec0b1f7df02"
      },
      "source": [
        "df = pd.DataFrame({'Real Values':Y_test.reshape(-1), 'Predicted Values':y_pred.reshape(-1)})\r\n",
        "df"
      ],
      "execution_count": null,
      "outputs": [
        {
          "output_type": "execute_result",
          "data": {
            "text/html": [
              "<div>\n",
              "<style scoped>\n",
              "    .dataframe tbody tr th:only-of-type {\n",
              "        vertical-align: middle;\n",
              "    }\n",
              "\n",
              "    .dataframe tbody tr th {\n",
              "        vertical-align: top;\n",
              "    }\n",
              "\n",
              "    .dataframe thead th {\n",
              "        text-align: right;\n",
              "    }\n",
              "</style>\n",
              "<table border=\"1\" class=\"dataframe\">\n",
              "  <thead>\n",
              "    <tr style=\"text-align: right;\">\n",
              "      <th></th>\n",
              "      <th>Real Values</th>\n",
              "      <th>Predicted Values</th>\n",
              "    </tr>\n",
              "  </thead>\n",
              "  <tbody>\n",
              "    <tr>\n",
              "      <th>0</th>\n",
              "      <td>-0.566190</td>\n",
              "      <td>-0.464919</td>\n",
              "    </tr>\n",
              "    <tr>\n",
              "      <th>1</th>\n",
              "      <td>-0.439694</td>\n",
              "      <td>-0.491909</td>\n",
              "    </tr>\n",
              "    <tr>\n",
              "      <th>2</th>\n",
              "      <td>-0.566506</td>\n",
              "      <td>-0.528872</td>\n",
              "    </tr>\n",
              "    <tr>\n",
              "      <th>3</th>\n",
              "      <td>-0.683879</td>\n",
              "      <td>-0.409650</td>\n",
              "    </tr>\n",
              "    <tr>\n",
              "      <th>4</th>\n",
              "      <td>-0.419043</td>\n",
              "      <td>-0.499412</td>\n",
              "    </tr>\n",
              "    <tr>\n",
              "      <th>...</th>\n",
              "      <td>...</td>\n",
              "      <td>...</td>\n",
              "    </tr>\n",
              "    <tr>\n",
              "      <th>655</th>\n",
              "      <td>-0.024665</td>\n",
              "      <td>-0.480861</td>\n",
              "    </tr>\n",
              "    <tr>\n",
              "      <th>656</th>\n",
              "      <td>0.031557</td>\n",
              "      <td>-0.777077</td>\n",
              "    </tr>\n",
              "    <tr>\n",
              "      <th>657</th>\n",
              "      <td>-0.037376</td>\n",
              "      <td>-0.533199</td>\n",
              "    </tr>\n",
              "    <tr>\n",
              "      <th>658</th>\n",
              "      <td>-0.026715</td>\n",
              "      <td>-0.608502</td>\n",
              "    </tr>\n",
              "    <tr>\n",
              "      <th>659</th>\n",
              "      <td>-0.107060</td>\n",
              "      <td>-0.449106</td>\n",
              "    </tr>\n",
              "  </tbody>\n",
              "</table>\n",
              "<p>660 rows × 2 columns</p>\n",
              "</div>"
            ],
            "text/plain": [
              "     Real Values  Predicted Values\n",
              "0      -0.566190         -0.464919\n",
              "1      -0.439694         -0.491909\n",
              "2      -0.566506         -0.528872\n",
              "3      -0.683879         -0.409650\n",
              "4      -0.419043         -0.499412\n",
              "..           ...               ...\n",
              "655    -0.024665         -0.480861\n",
              "656     0.031557         -0.777077\n",
              "657    -0.037376         -0.533199\n",
              "658    -0.026715         -0.608502\n",
              "659    -0.107060         -0.449106\n",
              "\n",
              "[660 rows x 2 columns]"
            ]
          },
          "metadata": {
            "tags": []
          },
          "execution_count": 74
        }
      ]
    },
    {
      "cell_type": "markdown",
      "metadata": {
        "id": "-jzXlvOIEGJg"
      },
      "source": [
        "# Results"
      ]
    },
    {
      "cell_type": "code",
      "metadata": {
        "id": "P4OnMtlBNn_o",
        "colab": {
          "base_uri": "https://localhost:8080/",
          "height": 141
        },
        "outputId": "236a9528-16e9-46e0-ad49-3e2fa5799dac"
      },
      "source": [
        "import pandas as pd\r\n",
        "data = [['Decision Tree', DTr_square, DTmse, DTRrmse],['Polynomial Regression', polyr2, polymse, polyrmse],['Random Forest', RFr2score, RFMSE, RFRMSE]]\r\n",
        "df = pd.DataFrame(data,columns=['Model', 'R2Score', 'Mean Squared Error' , 'Root Mean Squared Error'])\r\n",
        "df"
      ],
      "execution_count": null,
      "outputs": [
        {
          "output_type": "execute_result",
          "data": {
            "text/html": [
              "<div>\n",
              "<style scoped>\n",
              "    .dataframe tbody tr th:only-of-type {\n",
              "        vertical-align: middle;\n",
              "    }\n",
              "\n",
              "    .dataframe tbody tr th {\n",
              "        vertical-align: top;\n",
              "    }\n",
              "\n",
              "    .dataframe thead th {\n",
              "        text-align: right;\n",
              "    }\n",
              "</style>\n",
              "<table border=\"1\" class=\"dataframe\">\n",
              "  <thead>\n",
              "    <tr style=\"text-align: right;\">\n",
              "      <th></th>\n",
              "      <th>Model</th>\n",
              "      <th>R2Score</th>\n",
              "      <th>Mean Squared Error</th>\n",
              "      <th>Root Mean Squared Error</th>\n",
              "    </tr>\n",
              "  </thead>\n",
              "  <tbody>\n",
              "    <tr>\n",
              "      <th>0</th>\n",
              "      <td>Decision Tree</td>\n",
              "      <td>0.234225</td>\n",
              "      <td>0.673694</td>\n",
              "      <td>0.820789</td>\n",
              "    </tr>\n",
              "    <tr>\n",
              "      <th>1</th>\n",
              "      <td>Polynomial Regression</td>\n",
              "      <td>0.456039</td>\n",
              "      <td>0.543961</td>\n",
              "      <td>0.737537</td>\n",
              "    </tr>\n",
              "    <tr>\n",
              "      <th>2</th>\n",
              "      <td>Random Forest</td>\n",
              "      <td>0.183737</td>\n",
              "      <td>0.847353</td>\n",
              "      <td>0.920518</td>\n",
              "    </tr>\n",
              "  </tbody>\n",
              "</table>\n",
              "</div>"
            ],
            "text/plain": [
              "                   Model   R2Score  Mean Squared Error  Root Mean Squared Error\n",
              "0          Decision Tree  0.234225            0.673694                 0.820789\n",
              "1  Polynomial Regression  0.456039            0.543961                 0.737537\n",
              "2          Random Forest  0.183737            0.847353                 0.920518"
            ]
          },
          "metadata": {
            "tags": []
          },
          "execution_count": 112
        }
      ]
    },
    {
      "cell_type": "code",
      "metadata": {
        "id": "q8oc_NZPQIpM",
        "colab": {
          "base_uri": "https://localhost:8080/",
          "height": 298
        },
        "outputId": "a07c90f7-a16e-49c2-cab5-f7b96d5b5c88"
      },
      "source": [
        "plt.title('Coeffient of Determination (R2Score)')\r\n",
        "plt.bar(df['Model'] , df['R2Score'] , color=['red' , 'green' , 'blue'], width = 0.3, align='center')\r\n",
        "plt.show()"
      ],
      "execution_count": null,
      "outputs": [
        {
          "output_type": "execute_result",
          "data": {
            "text/plain": [
              "<function matplotlib.pyplot.show>"
            ]
          },
          "metadata": {
            "tags": []
          },
          "execution_count": 61
        },
        {
          "output_type": "display_data",
          "data": {
            "image/png": "[encoded data removed]",
            "text/plain": [
              "<Figure size 432x288 with 1 Axes>"
            ]
          },
          "metadata": {
            "tags": [],
            "needs_background": "light"
          }
        }
      ]
    },
    {
      "cell_type": "code",
      "metadata": {
        "id": "fou3S5lcVJG4",
        "colab": {
          "base_uri": "https://localhost:8080/",
          "height": 281
        },
        "outputId": "1b48385c-e9f0-4800-ef0c-6dc7b721319e"
      },
      "source": [
        "plt.title('Mean Squared Error')\r\n",
        "plt.bar(df['Model'] , df['Mean Squared Error'] , color=['red' , 'green' , 'blue'], width = 0.3, align='center')\r\n",
        "plt.show()"
      ],
      "execution_count": null,
      "outputs": [
        {
          "output_type": "display_data",
          "data": {
            "image/png": "[encoded data removed]",
            "text/plain": [
              "<Figure size 432x288 with 1 Axes>"
            ]
          },
          "metadata": {
            "tags": [],
            "needs_background": "light"
          }
        }
      ]
    },
    {
      "cell_type": "code",
      "metadata": {
        "colab": {
          "base_uri": "https://localhost:8080/",
          "height": 281
        },
        "id": "-JCmzSMXZBsP",
        "outputId": "6dd2aa39-2ceb-4413-f400-f4160d3b80eb"
      },
      "source": [
        "plt.title('Root Mean Squared Error')\r\n",
        "plt.bar(df['Model'] , df['Root Mean Squared Error'] , color=['red' , 'green' , 'blue'], width = 0.3, align='center')\r\n",
        "plt.show()"
      ],
      "execution_count": null,
      "outputs": [
        {
          "output_type": "display_data",
          "data": {
            "image/png": "[encoded data removed]",
            "text/plain": [
              "<Figure size 432x288 with 1 Axes>"
            ]
          },
          "metadata": {
            "tags": [],
            "needs_background": "light"
          }
        }
      ]
    }
  ]
}